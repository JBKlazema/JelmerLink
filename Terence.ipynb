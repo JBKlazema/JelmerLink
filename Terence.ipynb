{
 "cells": [
  {
   "cell_type": "code",
   "execution_count": 1,
   "metadata": {},
   "outputs": [],
   "source": [
    "import pandas as pd\n",
    "import numpy as np\n",
    "import matplotlib.pyplot as plt\n",
    "from datetime import datetime\n",
    "from ipywidgets import widgets\n",
    "from __future__ import print_function\n",
    "from ipywidgets import interact, interactive, fixed, interact_manual"
   ]
  },
  {
   "cell_type": "code",
   "execution_count": 2,
   "metadata": {},
   "outputs": [],
   "source": [
    "#invoerwaarden Terence\n",
    "Ppomp = 16 #kW\n",
    "MaximumFreq = 90 #Hz\n",
    "Apaneel = 22.35 #m^2\n",
    "StartDate = '27/11/2018 11:13' #dd/mm/yyyy HH:mm\n",
    "EndDate = '27/11/2018 18:13' #dd/mm/yyyy HH:mm"
   ]
  },
  {
   "cell_type": "code",
   "execution_count": 3,
   "metadata": {},
   "outputs": [
    {
     "data": {
      "application/vnd.jupyter.widget-view+json": {
       "model_id": "49675010a4e34ef385cb29f99fc340f0",
       "version_major": 2,
       "version_minor": 0
      },
      "text/plain": [
       "Button(description='Done', style=ButtonStyle())"
      ]
     },
     "metadata": {},
     "output_type": "display_data"
    }
   ],
   "source": [
    "button = widgets.Button(description='Done')\n",
    "display(button)\n",
    "\n",
    "def on_button_clicked(b):\n",
    "    Ppomp = pd.to_numeric(text.value)\n",
    "    print('Klik')\n",
    "    \n",
    "button.on_click(on_button_clicked)"
   ]
  },
  {
   "cell_type": "code",
   "execution_count": 4,
   "metadata": {},
   "outputs": [
    {
     "data": {
      "text/plain": [
       "16"
      ]
     },
     "execution_count": 4,
     "metadata": {},
     "output_type": "execute_result"
    }
   ],
   "source": [
    "Ppomp = pd.to_numeric(Ppomp)\n",
    "Ppomp"
   ]
  },
  {
   "cell_type": "code",
   "execution_count": 5,
   "metadata": {},
   "outputs": [],
   "source": [
    "#bestand importeren\n",
    "df = pd.read_csv(\"~//Google Drive/11 - Triple Solar - Stagiaires/Stages/Jelmer/Modellen/Terence/06529517010004 Terence 2min - klein.csv\", engine='python', delimiter=\";\", index_col=0, header=[0,1], skiprows=[2,3])"
   ]
  },
  {
   "cell_type": "code",
   "execution_count": 6,
   "metadata": {},
   "outputs": [],
   "source": [
    "#COP tabel importeren in tabelvorm\n",
    "df_COP = pd.read_csv(\"~//Google Drive/11 - Triple Solar - Stagiaires/Stages/Jelmer/Modellen/COP_tabel.csv\", engine='python', delimiter=\";\", index_col=[0])"
   ]
  },
  {
   "cell_type": "code",
   "execution_count": 7,
   "metadata": {},
   "outputs": [],
   "source": [
    "#index omzetten naar 'datetime'\n",
    "df = df.set_index(pd.DatetimeIndex(df.index.values))"
   ]
  },
  {
   "cell_type": "code",
   "execution_count": 8,
   "metadata": {},
   "outputs": [],
   "source": [
    "#van de comma's een punt maken\n",
    "df = df.replace(',','.', regex=True)\n",
    "df_COP= df_COP.replace(',','.', regex=True)"
   ]
  },
  {
   "cell_type": "code",
   "execution_count": 9,
   "metadata": {},
   "outputs": [],
   "source": [
    "#van de comma's een punt maken\n",
    "df_COP= df_COP.replace(',','.', regex=True)"
   ]
  },
  {
   "cell_type": "code",
   "execution_count": 10,
   "metadata": {},
   "outputs": [
    {
     "data": {
      "text/plain": [
       "40004  outdoor temp.                 object\n",
       "40014  hot water charging            object\n",
       "43005  degree minutes                 int64\n",
       "40013  hot water top                float64\n",
       "40015  brine in                      object\n",
       "40016  brine out                     object\n",
       "40008  heat medium flow              object\n",
       "40012  return temp.                  object\n",
       "43136  current compr. frequency       int64\n",
       "43084  electrical addition power      int64\n",
       "43081  time factor                   object\n",
       "dtype: object"
      ]
     },
     "execution_count": 10,
     "metadata": {},
     "output_type": "execute_result"
    }
   ],
   "source": [
    "df.dtypes"
   ]
  },
  {
   "cell_type": "code",
   "execution_count": 11,
   "metadata": {},
   "outputs": [
    {
     "data": {
      "text/html": [
       "<div>\n",
       "<style scoped>\n",
       "    .dataframe tbody tr th:only-of-type {\n",
       "        vertical-align: middle;\n",
       "    }\n",
       "\n",
       "    .dataframe tbody tr th {\n",
       "        vertical-align: top;\n",
       "    }\n",
       "\n",
       "    .dataframe thead th {\n",
       "        text-align: right;\n",
       "    }\n",
       "</style>\n",
       "<table border=\"1\" class=\"dataframe\">\n",
       "  <thead>\n",
       "    <tr style=\"text-align: right;\">\n",
       "      <th></th>\n",
       "      <th>30</th>\n",
       "      <th>35</th>\n",
       "      <th>40</th>\n",
       "      <th>45</th>\n",
       "      <th>50</th>\n",
       "      <th>55</th>\n",
       "      <th>60</th>\n",
       "    </tr>\n",
       "  </thead>\n",
       "  <tbody>\n",
       "    <tr>\n",
       "      <th>-10</th>\n",
       "      <td>3.86</td>\n",
       "      <td>3.45</td>\n",
       "      <td>3.04</td>\n",
       "      <td>2.64</td>\n",
       "      <td>2.27</td>\n",
       "      <td>1.87</td>\n",
       "      <td>1.46</td>\n",
       "    </tr>\n",
       "    <tr>\n",
       "      <th>-5</th>\n",
       "      <td>4.85</td>\n",
       "      <td>4.32</td>\n",
       "      <td>3.83</td>\n",
       "      <td>3.38</td>\n",
       "      <td>2.99</td>\n",
       "      <td>2.57</td>\n",
       "      <td>2.17</td>\n",
       "    </tr>\n",
       "    <tr>\n",
       "      <th>0</th>\n",
       "      <td>5.50</td>\n",
       "      <td>4.93</td>\n",
       "      <td>4.39</td>\n",
       "      <td>3.88</td>\n",
       "      <td>3.45</td>\n",
       "      <td>3.05</td>\n",
       "      <td>2.63</td>\n",
       "    </tr>\n",
       "    <tr>\n",
       "      <th>5</th>\n",
       "      <td>6.49</td>\n",
       "      <td>5.73</td>\n",
       "      <td>5.07</td>\n",
       "      <td>4.46</td>\n",
       "      <td>3.95</td>\n",
       "      <td>3.51</td>\n",
       "      <td>3.09</td>\n",
       "    </tr>\n",
       "    <tr>\n",
       "      <th>10</th>\n",
       "      <td>7.51</td>\n",
       "      <td>6.54</td>\n",
       "      <td>5.73</td>\n",
       "      <td>5.06</td>\n",
       "      <td>4.48</td>\n",
       "      <td>3.97</td>\n",
       "      <td>3.50</td>\n",
       "    </tr>\n",
       "    <tr>\n",
       "      <th>15</th>\n",
       "      <td>8.27</td>\n",
       "      <td>7.14</td>\n",
       "      <td>6.23</td>\n",
       "      <td>5.46</td>\n",
       "      <td>4.81</td>\n",
       "      <td>4.27</td>\n",
       "      <td>3.77</td>\n",
       "    </tr>\n",
       "    <tr>\n",
       "      <th>20</th>\n",
       "      <td>9.13</td>\n",
       "      <td>7.79</td>\n",
       "      <td>6.74</td>\n",
       "      <td>5.87</td>\n",
       "      <td>5.15</td>\n",
       "      <td>4.56</td>\n",
       "      <td>4.03</td>\n",
       "    </tr>\n",
       "    <tr>\n",
       "      <th>25</th>\n",
       "      <td>9.99</td>\n",
       "      <td>8.41</td>\n",
       "      <td>7.21</td>\n",
       "      <td>6.25</td>\n",
       "      <td>5.45</td>\n",
       "      <td>4.82</td>\n",
       "      <td>4.25</td>\n",
       "    </tr>\n",
       "  </tbody>\n",
       "</table>\n",
       "</div>"
      ],
      "text/plain": [
       "       30    35    40    45    50    55    60\n",
       "-10  3.86  3.45  3.04  2.64  2.27  1.87  1.46\n",
       "-5   4.85  4.32  3.83  3.38  2.99  2.57  2.17\n",
       " 0   5.50  4.93  4.39  3.88  3.45  3.05  2.63\n",
       " 5   6.49  5.73  5.07  4.46  3.95  3.51  3.09\n",
       " 10  7.51  6.54  5.73  5.06  4.48  3.97  3.50\n",
       " 15  8.27  7.14  6.23  5.46  4.81  4.27  3.77\n",
       " 20  9.13  7.79  6.74  5.87  5.15  4.56  4.03\n",
       " 25  9.99  8.41  7.21  6.25  5.45  4.82  4.25"
      ]
     },
     "execution_count": 11,
     "metadata": {},
     "output_type": "execute_result"
    }
   ],
   "source": [
    "df_COP"
   ]
  },
  {
   "cell_type": "code",
   "execution_count": 12,
   "metadata": {
    "scrolled": true
   },
   "outputs": [],
   "source": [
    "def myround(x, base=5):\n",
    "    return int(base * round(float(x)/base))\n",
    "\n",
    "def createCOP(BI, MHF, df_COP):\n",
    "    COP = []\n",
    "    for indexName, columnName in zip(BI, MHF): \n",
    "        if not 30 <= myround(columnName) <= 60 or not -10 <= myround(indexName) <= 25:\n",
    "            COP.append(None)\n",
    "        else:\n",
    "            COP.append(df_COP[str(myround(columnName))][myround(indexName)])\n",
    "    return COP\n",
    "\n",
    "df['','COP'] = createCOP(df['40016', 'brine out'], df['40008', 'heat medium flow'], df_COP)"
   ]
  },
  {
   "cell_type": "code",
   "execution_count": 13,
   "metadata": {},
   "outputs": [],
   "source": [
    "df['40015', 'brine in'] = df['40015', 'brine in'].astype(float)\n",
    "df['40008', 'heat medium flow'] = df['40008', 'heat medium flow'].astype(float)\n",
    "#Tabel['COP'] = Tabel.apply(lambda x: COP_tabel[x['40008', 'heat medium flow', 'BT2']][x['40015', 'brine in', 'EB100-EP14-BT10']], axis = 1)"
   ]
  },
  {
   "cell_type": "code",
   "execution_count": 14,
   "metadata": {},
   "outputs": [],
   "source": [
    "#Delta T berekenen\n",
    "df['40004', 'outdoor temp.'] = df['40004', 'outdoor temp.'].astype(float)\n",
    "df['40015', 'brine in'] = df['40015', 'brine in'].astype(float)\n",
    "df['40016', 'brine out'] = df['40016', 'brine out'].astype(float)\n",
    "df['','Delta_T'] = df[('40004', 'outdoor temp.')] - ((df[('40015', 'brine in')] + df[('40016', 'brine out')])/2)"
   ]
  },
  {
   "cell_type": "code",
   "execution_count": 15,
   "metadata": {},
   "outputs": [],
   "source": [
    "#Actueel vermogen berekenen\n",
    "df['','Actueel vermogen'] = df[('43136', 'current compr. frequency')].astype(float) / MaximumFreq * Ppomp\n",
    "df['','Actueel vermogen'] = df['','Actueel vermogen'].round(2)"
   ]
  },
  {
   "cell_type": "code",
   "execution_count": 16,
   "metadata": {},
   "outputs": [
    {
     "ename": "KeyError",
     "evalue": "'Key length (3) exceeds index depth (2)'",
     "output_type": "error",
     "traceback": [
      "\u001b[1;31m---------------------------------------------------------------------------\u001b[0m",
      "\u001b[1;31mKeyError\u001b[0m                                  Traceback (most recent call last)",
      "\u001b[1;32m<ipython-input-16-b085cd678de2>\u001b[0m in \u001b[0;36m<module>\u001b[1;34m()\u001b[0m\n\u001b[0;32m      1\u001b[0m \u001b[1;31m#U-waarde berekenen\u001b[0m\u001b[1;33m\u001b[0m\u001b[1;33m\u001b[0m\u001b[0m\n\u001b[1;32m----> 2\u001b[1;33m \u001b[0mdf\u001b[0m\u001b[1;33m[\u001b[0m\u001b[1;34m''\u001b[0m\u001b[1;33m,\u001b[0m\u001b[1;34m'U_waarde'\u001b[0m\u001b[1;33m,\u001b[0m\u001b[1;34m''\u001b[0m\u001b[1;33m]\u001b[0m \u001b[1;33m=\u001b[0m \u001b[0mdf\u001b[0m\u001b[1;33m[\u001b[0m\u001b[1;34m''\u001b[0m\u001b[1;33m,\u001b[0m\u001b[1;34m'Actueel vermogen'\u001b[0m\u001b[1;33m,\u001b[0m\u001b[1;34m''\u001b[0m\u001b[1;33m]\u001b[0m \u001b[1;33m*\u001b[0m \u001b[1;36m1000\u001b[0m \u001b[1;33m/\u001b[0m \u001b[0mdf\u001b[0m\u001b[1;33m[\u001b[0m\u001b[1;34m''\u001b[0m\u001b[1;33m,\u001b[0m\u001b[1;34m'Delta_T'\u001b[0m\u001b[1;33m,\u001b[0m\u001b[1;34m''\u001b[0m\u001b[1;33m]\u001b[0m \u001b[1;33m/\u001b[0m \u001b[1;36m22.35\u001b[0m\u001b[1;33m\u001b[0m\u001b[0m\n\u001b[0m\u001b[0;32m      3\u001b[0m \u001b[0mdf\u001b[0m\u001b[1;33m[\u001b[0m\u001b[1;34m''\u001b[0m\u001b[1;33m,\u001b[0m\u001b[1;34m'U_waarde'\u001b[0m\u001b[1;33m,\u001b[0m\u001b[1;34m''\u001b[0m\u001b[1;33m]\u001b[0m \u001b[1;33m=\u001b[0m \u001b[0mdf\u001b[0m\u001b[1;33m[\u001b[0m\u001b[1;34m''\u001b[0m\u001b[1;33m,\u001b[0m\u001b[1;34m'U_waarde'\u001b[0m\u001b[1;33m,\u001b[0m\u001b[1;34m''\u001b[0m\u001b[1;33m]\u001b[0m\u001b[1;33m.\u001b[0m\u001b[0mastype\u001b[0m\u001b[1;33m(\u001b[0m\u001b[0mfloat\u001b[0m\u001b[1;33m)\u001b[0m\u001b[1;33m.\u001b[0m\u001b[0mround\u001b[0m\u001b[1;33m(\u001b[0m\u001b[1;36m2\u001b[0m\u001b[1;33m)\u001b[0m\u001b[1;33m\u001b[0m\u001b[0m\n",
      "\u001b[1;32mC:\\ProgramData\\Anaconda3\\lib\\site-packages\\pandas\\core\\frame.py\u001b[0m in \u001b[0;36m__getitem__\u001b[1;34m(self, key)\u001b[0m\n\u001b[0;32m   2684\u001b[0m             \u001b[1;32mreturn\u001b[0m \u001b[0mself\u001b[0m\u001b[1;33m.\u001b[0m\u001b[0m_getitem_frame\u001b[0m\u001b[1;33m(\u001b[0m\u001b[0mkey\u001b[0m\u001b[1;33m)\u001b[0m\u001b[1;33m\u001b[0m\u001b[0m\n\u001b[0;32m   2685\u001b[0m         \u001b[1;32melif\u001b[0m \u001b[0mis_mi_columns\u001b[0m\u001b[1;33m:\u001b[0m\u001b[1;33m\u001b[0m\u001b[0m\n\u001b[1;32m-> 2686\u001b[1;33m             \u001b[1;32mreturn\u001b[0m \u001b[0mself\u001b[0m\u001b[1;33m.\u001b[0m\u001b[0m_getitem_multilevel\u001b[0m\u001b[1;33m(\u001b[0m\u001b[0mkey\u001b[0m\u001b[1;33m)\u001b[0m\u001b[1;33m\u001b[0m\u001b[0m\n\u001b[0m\u001b[0;32m   2687\u001b[0m         \u001b[1;32melse\u001b[0m\u001b[1;33m:\u001b[0m\u001b[1;33m\u001b[0m\u001b[0m\n\u001b[0;32m   2688\u001b[0m             \u001b[1;32mreturn\u001b[0m \u001b[0mself\u001b[0m\u001b[1;33m.\u001b[0m\u001b[0m_getitem_column\u001b[0m\u001b[1;33m(\u001b[0m\u001b[0mkey\u001b[0m\u001b[1;33m)\u001b[0m\u001b[1;33m\u001b[0m\u001b[0m\n",
      "\u001b[1;32mC:\\ProgramData\\Anaconda3\\lib\\site-packages\\pandas\\core\\frame.py\u001b[0m in \u001b[0;36m_getitem_multilevel\u001b[1;34m(self, key)\u001b[0m\n\u001b[0;32m   2728\u001b[0m \u001b[1;33m\u001b[0m\u001b[0m\n\u001b[0;32m   2729\u001b[0m     \u001b[1;32mdef\u001b[0m \u001b[0m_getitem_multilevel\u001b[0m\u001b[1;33m(\u001b[0m\u001b[0mself\u001b[0m\u001b[1;33m,\u001b[0m \u001b[0mkey\u001b[0m\u001b[1;33m)\u001b[0m\u001b[1;33m:\u001b[0m\u001b[1;33m\u001b[0m\u001b[0m\n\u001b[1;32m-> 2730\u001b[1;33m         \u001b[0mloc\u001b[0m \u001b[1;33m=\u001b[0m \u001b[0mself\u001b[0m\u001b[1;33m.\u001b[0m\u001b[0mcolumns\u001b[0m\u001b[1;33m.\u001b[0m\u001b[0mget_loc\u001b[0m\u001b[1;33m(\u001b[0m\u001b[0mkey\u001b[0m\u001b[1;33m)\u001b[0m\u001b[1;33m\u001b[0m\u001b[0m\n\u001b[0m\u001b[0;32m   2731\u001b[0m         \u001b[1;32mif\u001b[0m \u001b[0misinstance\u001b[0m\u001b[1;33m(\u001b[0m\u001b[0mloc\u001b[0m\u001b[1;33m,\u001b[0m \u001b[1;33m(\u001b[0m\u001b[0mslice\u001b[0m\u001b[1;33m,\u001b[0m \u001b[0mSeries\u001b[0m\u001b[1;33m,\u001b[0m \u001b[0mnp\u001b[0m\u001b[1;33m.\u001b[0m\u001b[0mndarray\u001b[0m\u001b[1;33m,\u001b[0m \u001b[0mIndex\u001b[0m\u001b[1;33m)\u001b[0m\u001b[1;33m)\u001b[0m\u001b[1;33m:\u001b[0m\u001b[1;33m\u001b[0m\u001b[0m\n\u001b[0;32m   2732\u001b[0m             \u001b[0mnew_columns\u001b[0m \u001b[1;33m=\u001b[0m \u001b[0mself\u001b[0m\u001b[1;33m.\u001b[0m\u001b[0mcolumns\u001b[0m\u001b[1;33m[\u001b[0m\u001b[0mloc\u001b[0m\u001b[1;33m]\u001b[0m\u001b[1;33m\u001b[0m\u001b[0m\n",
      "\u001b[1;32mC:\\ProgramData\\Anaconda3\\lib\\site-packages\\pandas\\core\\indexes\\multi.py\u001b[0m in \u001b[0;36mget_loc\u001b[1;34m(self, key, method)\u001b[0m\n\u001b[0;32m   2246\u001b[0m         \u001b[1;32mif\u001b[0m \u001b[0mself\u001b[0m\u001b[1;33m.\u001b[0m\u001b[0mnlevels\u001b[0m \u001b[1;33m<\u001b[0m \u001b[0mkeylen\u001b[0m\u001b[1;33m:\u001b[0m\u001b[1;33m\u001b[0m\u001b[0m\n\u001b[0;32m   2247\u001b[0m             raise KeyError('Key length ({0}) exceeds index depth ({1})'\n\u001b[1;32m-> 2248\u001b[1;33m                            ''.format(keylen, self.nlevels))\n\u001b[0m\u001b[0;32m   2249\u001b[0m \u001b[1;33m\u001b[0m\u001b[0m\n\u001b[0;32m   2250\u001b[0m         \u001b[1;32mif\u001b[0m \u001b[0mkeylen\u001b[0m \u001b[1;33m==\u001b[0m \u001b[0mself\u001b[0m\u001b[1;33m.\u001b[0m\u001b[0mnlevels\u001b[0m \u001b[1;32mand\u001b[0m \u001b[0mself\u001b[0m\u001b[1;33m.\u001b[0m\u001b[0mis_unique\u001b[0m\u001b[1;33m:\u001b[0m\u001b[1;33m\u001b[0m\u001b[0m\n",
      "\u001b[1;31mKeyError\u001b[0m: 'Key length (3) exceeds index depth (2)'"
     ]
    }
   ],
   "source": [
    "#U-waarde berekenen\n",
    "df['','U_waarde',''] = df['','Actueel vermogen',''] * 1000 / df['','Delta_T',''] / 22.35\n",
    "df['','U_waarde',''] = df['','U_waarde',''].astype(float).round(2)"
   ]
  },
  {
   "cell_type": "code",
   "execution_count": null,
   "metadata": {},
   "outputs": [],
   "source": [
    "#Het colum BT7 laten vallen (optioneel) en oneidig groot omzetten naar 100\n",
    "#Het colum verwijderen is alleen vor Terence en met andere kan dit weg\n",
    "df = df.drop([('40013', 'hot water top', 'BT7')], axis=1)\n",
    "df = df.replace(np.inf, \"100\")"
   ]
  },
  {
   "cell_type": "code",
   "execution_count": null,
   "metadata": {},
   "outputs": [],
   "source": [
    "#U-waardes die boven de 100 afkoppen naar 100 en van negative U-waardes een 0 maken.\n",
    "df['','U_waarde',''] = df['','U_waarde',''].astype(float).where(df['','U_waarde',''].astype(float)<=100, other='100')\n",
    "df['','U_waarde',''] = df['','U_waarde',''].astype(float).where(df['','U_waarde',''].astype(float)>0, other='0')"
   ]
  },
  {
   "cell_type": "code",
   "execution_count": null,
   "metadata": {},
   "outputs": [],
   "source": [
    "#buiten temperaturr afronden naar hele getallen\n",
    "df['40004', 'outdoor temp.', 'BT1'] = df['40004', 'outdoor temp.', 'BT1'].round(decimals=0).astype(int)"
   ]
  },
  {
   "cell_type": "code",
   "execution_count": null,
   "metadata": {},
   "outputs": [],
   "source": [
    "df#['40004', 'outdoor temp.', 'BT1']"
   ]
  },
  {
   "cell_type": "code",
   "execution_count": null,
   "metadata": {},
   "outputs": [],
   "source": [
    "#exporteren als CSV-bestand\n",
    "df.to_csv(\"ouput.csv\", sep=';')"
   ]
  },
  {
   "cell_type": "code",
   "execution_count": null,
   "metadata": {},
   "outputs": [],
   "source": [
    "df_date = df['26/09/2018 18:13': '27/09/2018 00:13']\n",
    "df_date\n",
    "df_date.to_csv(\"ouput.csv\", sep=';')"
   ]
  },
  {
   "cell_type": "code",
   "execution_count": null,
   "metadata": {},
   "outputs": [],
   "source": [
    "df['40004', 'outdoor temp.', 'BT1'] = df['40004', 'outdoor temp.', 'BT1'].astype(float).where(df['40004', 'outdoor temp.', 'BT1'].astype(float)>-10, other=-10)\n",
    "df[[('40004', 'outdoor temp.', 'BT1'), ('40014', 'hot water charging', 'BT6')]].astype(float).plot(use_index = True, kind = 'line', legend = True, sharex=True)#, subplots=True)\n",
    "plt.legend(bbox_to_anchor=(1.04,1), borderaxespad=0)"
   ]
  },
  {
   "cell_type": "code",
   "execution_count": null,
   "metadata": {},
   "outputs": [],
   "source": [
    "lijstje = list(df)\n",
    "lijstje"
   ]
  },
  {
   "cell_type": "code",
   "execution_count": null,
   "metadata": {},
   "outputs": [],
   "source": [
    "#grafiek tekenen en opslaan\n",
    "Frame = df[StartDate: EndDate]\n",
    "Frame.drop([('43081', 'time factor', 'Unnamed: 11_level_2'), ('43005', 'degree minutes', 'Unnamed: 3_level_2')], axis=1).astype(float).plot(use_index = True, kind = 'line', legend = True, sharex=True)\n",
    "\n",
    "plt.legend(bbox_to_anchor=(1.04,1), borderaxespad=0)\n",
    "plt.savefig('plot.png', dpi = 100, bbox_inches='tight')\n",
    "#plt.figure(figsize =[10, 10], dpi =100)"
   ]
  },
  {
   "cell_type": "code",
   "execution_count": null,
   "metadata": {},
   "outputs": [],
   "source": [
    "print(Frame.to_string())"
   ]
  },
  {
   "cell_type": "code",
   "execution_count": null,
   "metadata": {},
   "outputs": [],
   "source": [
    "Frame = Frame[[('40004', 'outdoor temp.', 'BT1'), ('40015', 'brine in', 'EB100-EP14-BT10'), ('40008', 'heat medium flow', 'BT2'), ('', 'COP', '')]]\n",
    "Frame.astype(float).plot(use_index = True, kind = 'line', legend = True, sharex=True)#, subplots=True)\n",
    "plt.legend(bbox_to_anchor=(1.04,1), borderaxespad=0)\n",
    "plt.figure(figsize =[6.4, 4.8])\n",
    "#plt.figure(dpi = 300)"
   ]
  }
 ],
 "metadata": {
  "kernelspec": {
   "display_name": "Python 3",
   "language": "python",
   "name": "python3"
  },
  "language_info": {
   "codemirror_mode": {
    "name": "ipython",
    "version": 3
   },
   "file_extension": ".py",
   "mimetype": "text/x-python",
   "name": "python",
   "nbconvert_exporter": "python",
   "pygments_lexer": "ipython3",
   "version": "3.7.0"
  }
 },
 "nbformat": 4,
 "nbformat_minor": 2
}
